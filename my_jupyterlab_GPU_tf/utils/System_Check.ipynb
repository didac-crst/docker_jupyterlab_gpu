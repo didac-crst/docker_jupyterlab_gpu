{
 "cells": [
  {
   "cell_type": "markdown",
   "id": "4f08eff2-be5b-4edf-8f65-22ccaf6fa1c5",
   "metadata": {},
   "source": [
    "# CUDA & GPU Check"
   ]
  },
  {
   "cell_type": "markdown",
   "id": "aca98264-fd50-4a0e-8b15-cf5a859bf9ee",
   "metadata": {},
   "source": [
    "### Check OS\n",
    "Similar to: ```$ lsb_release -a```"
   ]
  },
  {
   "cell_type": "code",
   "execution_count": null,
   "id": "855a8cc9-e18b-42b0-8353-e7868d8f04b3",
   "metadata": {},
   "outputs": [],
   "source": [
    "import subprocess\n",
    "\n",
    "def get_lsb_release():\n",
    "    try:\n",
    "        output = subprocess.check_output([\"lsb_release\", \"-a\"]).decode('utf-8')\n",
    "        return output\n",
    "    except Exception as e:\n",
    "        return str(e)\n",
    "\n",
    "print(get_lsb_release())"
   ]
  },
  {
   "cell_type": "markdown",
   "id": "12694946-64f8-4d9d-95af-afafd758220a",
   "metadata": {},
   "source": [
    "### Check CUDA\n",
    "Similar to: ```$ nvidia-smi```"
   ]
  },
  {
   "cell_type": "code",
   "execution_count": null,
   "id": "f20616c3-229f-47a8-a8f5-cb2cd6a5eb1d",
   "metadata": {},
   "outputs": [],
   "source": [
    "import subprocess\n",
    "\n",
    "def check_cuda():\n",
    "    try:\n",
    "        output = subprocess.check_output(\"nvidia-smi\", shell=True)\n",
    "        if \"NVIDIA-SMI\" in output.decode(\"utf-8\"):\n",
    "            print(\"NVIDIA/CUDA is running correctly\")\n",
    "            print(output.decode(\"utf-8\"))\n",
    "        else:\n",
    "            print(\"NVIDIA/CUDA is not running correctly\")\n",
    "    except subprocess.CalledProcessError:\n",
    "        print(\"Failed to run nvidia-smi\")\n",
    "\n",
    "if __name__ == \"__main__\":\n",
    "    check_cuda()"
   ]
  },
  {
   "cell_type": "markdown",
   "id": "b6a94541-77a9-4ccf-ac5b-03220943f0c4",
   "metadata": {},
   "source": [
    "### Check CUDA Tools\n",
    "Similar to: ```$ nvcc -- version```"
   ]
  },
  {
   "cell_type": "code",
   "execution_count": null,
   "id": "9618b84b-ec56-48be-be89-39d91f2b1e59",
   "metadata": {},
   "outputs": [],
   "source": [
    "import subprocess\n",
    "\n",
    "def get_nvcc_version():\n",
    "    try:\n",
    "        output = subprocess.check_output([\"nvcc\", \"--version\"]).decode('utf-8')\n",
    "        return output\n",
    "    except Exception as e:\n",
    "        return str(e)\n",
    "\n",
    "print(get_nvcc_version())"
   ]
  },
  {
   "cell_type": "markdown",
   "id": "b5eefbda-ef47-458d-8ec2-9f0283296263",
   "metadata": {},
   "source": [
    "### Check Tensorflow\n",
    "- Check the version\n",
    "- Check if GPU available"
   ]
  },
  {
   "cell_type": "code",
   "execution_count": null,
   "id": "58053609-0063-4e2a-a631-8d063eeb35c0",
   "metadata": {},
   "outputs": [],
   "source": [
    "import tensorflow as tf\n",
    "tf.__version__"
   ]
  },
  {
   "cell_type": "code",
   "execution_count": null,
   "id": "36354f1d-f29b-4ddb-9d09-f55d7a962047",
   "metadata": {},
   "outputs": [],
   "source": [
    "import tensorflow as tf\n",
    "\n",
    "def check_cuda():\n",
    "    gpus = tf.config.list_physical_devices('GPU')\n",
    "    if gpus:\n",
    "        print(\"GPU is available\")\n",
    "        for gpu in gpus:\n",
    "            print(\"Name:\", gpu.name, \"  Type:\", gpu.device_type)\n",
    "    else:\n",
    "        print(\"GPU is not available\")\n",
    "\n",
    "if __name__ == \"__main__\":\n",
    "    check_cuda()"
   ]
  },
  {
   "cell_type": "code",
   "execution_count": null,
   "id": "0d5131c6-113e-4b59-bef0-160e4907a77e",
   "metadata": {},
   "outputs": [],
   "source": [
    "import tensorflow as tf\n",
    "\n",
    "gpus = tf.config.list_physical_devices('GPU')\n",
    "# Restrict TensorFlow to only use the first GPU\n",
    "try:\n",
    "    tf.config.experimental.set_visible_devices(gpus[0], 'GPU')\n",
    "    logical_gpus = tf.config.experimental.list_logical_devices('GPU')\n",
    "    print(len(gpus), \"Physical GPUs,\", len(logical_gpus), \"Logical GPU\")\n",
    "except RuntimeError as e:\n",
    "    # Visible devices must be set before GPUs have been initialized\n",
    "    print(e)"
   ]
  }
 ],
 "metadata": {
  "kernelspec": {
   "display_name": "Python 3 (ipykernel)",
   "language": "python",
   "name": "python3"
  },
  "language_info": {
   "codemirror_mode": {
    "name": "ipython",
    "version": 3
   },
   "file_extension": ".py",
   "mimetype": "text/x-python",
   "name": "python",
   "nbconvert_exporter": "python",
   "pygments_lexer": "ipython3",
   "version": "3.10.13"
  }
 },
 "nbformat": 4,
 "nbformat_minor": 5
}
